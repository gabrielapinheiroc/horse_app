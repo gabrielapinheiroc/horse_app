{
  "nbformat": 4,
  "nbformat_minor": 0,
  "metadata": {
    "colab": {
      "name": "horse_classifier_.ipynb",
      "provenance": []
    },
    "kernelspec": {
      "name": "python3",
      "display_name": "Python 3"
    },
    "language_info": {
      "name": "python"
    },
    "widgets": {
      "application/vnd.jupyter.widget-state+json": {
        "e4c7c25d439e45929f9a71ff31c1c7ff": {
          "model_module": "@jupyter-widgets/controls",
          "model_name": "VBoxModel",
          "model_module_version": "1.5.0",
          "state": {
            "_dom_classes": [],
            "_model_module": "@jupyter-widgets/controls",
            "_model_module_version": "1.5.0",
            "_model_name": "VBoxModel",
            "_view_count": null,
            "_view_module": "@jupyter-widgets/controls",
            "_view_module_version": "1.5.0",
            "_view_name": "VBoxView",
            "box_style": "",
            "children": [
              "IPY_MODEL_075b12ce83f6488490917882940eb3cc",
              "IPY_MODEL_cfd245c1b3044320a9acc1dcb4142a31",
              "IPY_MODEL_4e65a22c365f48059d2ee80560611566",
              "IPY_MODEL_c7cafdec4f2c40a69e21a745f4e071af"
            ],
            "layout": "IPY_MODEL_97d0864722cd405e81200cf7d934c2f5"
          }
        },
        "075b12ce83f6488490917882940eb3cc": {
          "model_module": "@jupyter-widgets/controls",
          "model_name": "LabelModel",
          "model_module_version": "1.5.0",
          "state": {
            "_dom_classes": [],
            "_model_module": "@jupyter-widgets/controls",
            "_model_module_version": "1.5.0",
            "_model_name": "LabelModel",
            "_view_count": null,
            "_view_module": "@jupyter-widgets/controls",
            "_view_module_version": "1.5.0",
            "_view_name": "LabelView",
            "description": "",
            "description_tooltip": null,
            "layout": "IPY_MODEL_ddf9d25c36e14cc39c6ad444924943fc",
            "placeholder": "​",
            "style": "IPY_MODEL_fc8ac8c230f643909af0ca454b6de997",
            "value": "Upload an image of a dun horse , black horse or grey horse to classify it!"
          }
        },
        "cfd245c1b3044320a9acc1dcb4142a31": {
          "model_module": "@jupyter-widgets/controls",
          "model_name": "FileUploadModel",
          "model_module_version": "1.5.0",
          "state": {
            "_counter": 1,
            "_dom_classes": [],
            "_model_module": "@jupyter-widgets/controls",
            "_model_module_version": "1.5.0",
            "_model_name": "FileUploadModel",
            "_view_count": null,
            "_view_module": "@jupyter-widgets/controls",
            "_view_module_version": "1.5.0",
            "_view_name": "FileUploadView",
            "accept": "",
            "button_style": "",
            "data": [
              null
            ],
            "description": "Upload",
            "description_tooltip": null,
            "disabled": false,
            "error": "",
            "icon": "upload",
            "layout": "IPY_MODEL_41b91bdb770346b3abb8e032cf80385b",
            "metadata": [
              {
                "name": "black.jpg",
                "type": "image/jpeg",
                "size": 48976,
                "lastModified": 1652636372085
              }
            ],
            "multiple": false,
            "style": "IPY_MODEL_f0c52acc14b2446f9f1c4a061472d863"
          }
        },
        "4e65a22c365f48059d2ee80560611566": {
          "model_module": "@jupyter-widgets/output",
          "model_name": "OutputModel",
          "model_module_version": "1.0.0",
          "state": {
            "_dom_classes": [],
            "_model_module": "@jupyter-widgets/output",
            "_model_module_version": "1.0.0",
            "_model_name": "OutputModel",
            "_view_count": null,
            "_view_module": "@jupyter-widgets/output",
            "_view_module_version": "1.0.0",
            "_view_name": "OutputView",
            "layout": "IPY_MODEL_b1e5ee38513f4726bbdb33bc02f2eae8",
            "msg_id": "",
            "outputs": [
              {
                "output_type": "display_data",
                "data": {
                  "text/plain": "<PIL.Image.Image image mode=RGB size=128x99 at 0x7F3AFE7D31D0>",
                  "image/png": "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\n"
                },
                "metadata": {}
              }
            ]
          }
        },
        "c7cafdec4f2c40a69e21a745f4e071af": {
          "model_module": "@jupyter-widgets/controls",
          "model_name": "LabelModel",
          "model_module_version": "1.5.0",
          "state": {
            "_dom_classes": [],
            "_model_module": "@jupyter-widgets/controls",
            "_model_module_version": "1.5.0",
            "_model_name": "LabelModel",
            "_view_count": null,
            "_view_module": "@jupyter-widgets/controls",
            "_view_module_version": "1.5.0",
            "_view_name": "LabelView",
            "description": "",
            "description_tooltip": null,
            "layout": "IPY_MODEL_d1674ff6cc184f268c5514efde8ff99c",
            "placeholder": "​",
            "style": "IPY_MODEL_b18a6bc692684ebb90c50d34f91b96df",
            "value": "Prediction: black; Probability: 0.9988870024681091"
          }
        },
        "97d0864722cd405e81200cf7d934c2f5": {
          "model_module": "@jupyter-widgets/base",
          "model_name": "LayoutModel",
          "model_module_version": "1.2.0",
          "state": {
            "_model_module": "@jupyter-widgets/base",
            "_model_module_version": "1.2.0",
            "_model_name": "LayoutModel",
            "_view_count": null,
            "_view_module": "@jupyter-widgets/base",
            "_view_module_version": "1.2.0",
            "_view_name": "LayoutView",
            "align_content": null,
            "align_items": null,
            "align_self": null,
            "border": null,
            "bottom": null,
            "display": null,
            "flex": null,
            "flex_flow": null,
            "grid_area": null,
            "grid_auto_columns": null,
            "grid_auto_flow": null,
            "grid_auto_rows": null,
            "grid_column": null,
            "grid_gap": null,
            "grid_row": null,
            "grid_template_areas": null,
            "grid_template_columns": null,
            "grid_template_rows": null,
            "height": null,
            "justify_content": null,
            "justify_items": null,
            "left": null,
            "margin": null,
            "max_height": null,
            "max_width": null,
            "min_height": null,
            "min_width": null,
            "object_fit": null,
            "object_position": null,
            "order": null,
            "overflow": null,
            "overflow_x": null,
            "overflow_y": null,
            "padding": null,
            "right": null,
            "top": null,
            "visibility": null,
            "width": null
          }
        },
        "ddf9d25c36e14cc39c6ad444924943fc": {
          "model_module": "@jupyter-widgets/base",
          "model_name": "LayoutModel",
          "model_module_version": "1.2.0",
          "state": {
            "_model_module": "@jupyter-widgets/base",
            "_model_module_version": "1.2.0",
            "_model_name": "LayoutModel",
            "_view_count": null,
            "_view_module": "@jupyter-widgets/base",
            "_view_module_version": "1.2.0",
            "_view_name": "LayoutView",
            "align_content": null,
            "align_items": null,
            "align_self": null,
            "border": null,
            "bottom": null,
            "display": null,
            "flex": null,
            "flex_flow": null,
            "grid_area": null,
            "grid_auto_columns": null,
            "grid_auto_flow": null,
            "grid_auto_rows": null,
            "grid_column": null,
            "grid_gap": null,
            "grid_row": null,
            "grid_template_areas": null,
            "grid_template_columns": null,
            "grid_template_rows": null,
            "height": null,
            "justify_content": null,
            "justify_items": null,
            "left": null,
            "margin": null,
            "max_height": null,
            "max_width": null,
            "min_height": null,
            "min_width": null,
            "object_fit": null,
            "object_position": null,
            "order": null,
            "overflow": null,
            "overflow_x": null,
            "overflow_y": null,
            "padding": null,
            "right": null,
            "top": null,
            "visibility": null,
            "width": null
          }
        },
        "fc8ac8c230f643909af0ca454b6de997": {
          "model_module": "@jupyter-widgets/controls",
          "model_name": "DescriptionStyleModel",
          "model_module_version": "1.5.0",
          "state": {
            "_model_module": "@jupyter-widgets/controls",
            "_model_module_version": "1.5.0",
            "_model_name": "DescriptionStyleModel",
            "_view_count": null,
            "_view_module": "@jupyter-widgets/base",
            "_view_module_version": "1.2.0",
            "_view_name": "StyleView",
            "description_width": ""
          }
        },
        "41b91bdb770346b3abb8e032cf80385b": {
          "model_module": "@jupyter-widgets/base",
          "model_name": "LayoutModel",
          "model_module_version": "1.2.0",
          "state": {
            "_model_module": "@jupyter-widgets/base",
            "_model_module_version": "1.2.0",
            "_model_name": "LayoutModel",
            "_view_count": null,
            "_view_module": "@jupyter-widgets/base",
            "_view_module_version": "1.2.0",
            "_view_name": "LayoutView",
            "align_content": null,
            "align_items": null,
            "align_self": null,
            "border": null,
            "bottom": null,
            "display": null,
            "flex": null,
            "flex_flow": null,
            "grid_area": null,
            "grid_auto_columns": null,
            "grid_auto_flow": null,
            "grid_auto_rows": null,
            "grid_column": null,
            "grid_gap": null,
            "grid_row": null,
            "grid_template_areas": null,
            "grid_template_columns": null,
            "grid_template_rows": null,
            "height": null,
            "justify_content": null,
            "justify_items": null,
            "left": null,
            "margin": null,
            "max_height": null,
            "max_width": null,
            "min_height": null,
            "min_width": null,
            "object_fit": null,
            "object_position": null,
            "order": null,
            "overflow": null,
            "overflow_x": null,
            "overflow_y": null,
            "padding": null,
            "right": null,
            "top": null,
            "visibility": null,
            "width": null
          }
        },
        "f0c52acc14b2446f9f1c4a061472d863": {
          "model_module": "@jupyter-widgets/controls",
          "model_name": "ButtonStyleModel",
          "model_module_version": "1.5.0",
          "state": {
            "_model_module": "@jupyter-widgets/controls",
            "_model_module_version": "1.5.0",
            "_model_name": "ButtonStyleModel",
            "_view_count": null,
            "_view_module": "@jupyter-widgets/base",
            "_view_module_version": "1.2.0",
            "_view_name": "StyleView",
            "button_color": null,
            "font_weight": ""
          }
        },
        "d1674ff6cc184f268c5514efde8ff99c": {
          "model_module": "@jupyter-widgets/base",
          "model_name": "LayoutModel",
          "model_module_version": "1.2.0",
          "state": {
            "_model_module": "@jupyter-widgets/base",
            "_model_module_version": "1.2.0",
            "_model_name": "LayoutModel",
            "_view_count": null,
            "_view_module": "@jupyter-widgets/base",
            "_view_module_version": "1.2.0",
            "_view_name": "LayoutView",
            "align_content": null,
            "align_items": null,
            "align_self": null,
            "border": null,
            "bottom": null,
            "display": null,
            "flex": null,
            "flex_flow": null,
            "grid_area": null,
            "grid_auto_columns": null,
            "grid_auto_flow": null,
            "grid_auto_rows": null,
            "grid_column": null,
            "grid_gap": null,
            "grid_row": null,
            "grid_template_areas": null,
            "grid_template_columns": null,
            "grid_template_rows": null,
            "height": null,
            "justify_content": null,
            "justify_items": null,
            "left": null,
            "margin": null,
            "max_height": null,
            "max_width": null,
            "min_height": null,
            "min_width": null,
            "object_fit": null,
            "object_position": null,
            "order": null,
            "overflow": null,
            "overflow_x": null,
            "overflow_y": null,
            "padding": null,
            "right": null,
            "top": null,
            "visibility": null,
            "width": null
          }
        },
        "b18a6bc692684ebb90c50d34f91b96df": {
          "model_module": "@jupyter-widgets/controls",
          "model_name": "DescriptionStyleModel",
          "model_module_version": "1.5.0",
          "state": {
            "_model_module": "@jupyter-widgets/controls",
            "_model_module_version": "1.5.0",
            "_model_name": "DescriptionStyleModel",
            "_view_count": null,
            "_view_module": "@jupyter-widgets/base",
            "_view_module_version": "1.2.0",
            "_view_name": "StyleView",
            "description_width": ""
          }
        },
        "b1e5ee38513f4726bbdb33bc02f2eae8": {
          "model_module": "@jupyter-widgets/base",
          "model_name": "LayoutModel",
          "model_module_version": "1.2.0",
          "state": {
            "_model_module": "@jupyter-widgets/base",
            "_model_module_version": "1.2.0",
            "_model_name": "LayoutModel",
            "_view_count": null,
            "_view_module": "@jupyter-widgets/base",
            "_view_module_version": "1.2.0",
            "_view_name": "LayoutView",
            "align_content": null,
            "align_items": null,
            "align_self": null,
            "border": null,
            "bottom": null,
            "display": null,
            "flex": null,
            "flex_flow": null,
            "grid_area": null,
            "grid_auto_columns": null,
            "grid_auto_flow": null,
            "grid_auto_rows": null,
            "grid_column": null,
            "grid_gap": null,
            "grid_row": null,
            "grid_template_areas": null,
            "grid_template_columns": null,
            "grid_template_rows": null,
            "height": null,
            "justify_content": null,
            "justify_items": null,
            "left": null,
            "margin": null,
            "max_height": null,
            "max_width": null,
            "min_height": null,
            "min_width": null,
            "object_fit": null,
            "object_position": null,
            "order": null,
            "overflow": null,
            "overflow_x": null,
            "overflow_y": null,
            "padding": null,
            "right": null,
            "top": null,
            "visibility": null,
            "width": null
          }
        }
      }
    }
  },
  "cells": [
    {
      "cell_type": "markdown",
      "source": [
        "*Classifies three different types of horses: Dun, Black and Grey.*"
      ],
      "metadata": {
        "id": "ltDmoyFL7ug5"
      }
    },
    {
      "cell_type": "code",
      "source": [
        "!pip install -Uqq fastbook\n",
        "import fastbook\n"
      ],
      "metadata": {
        "id": "9210h4XN7w4x"
      },
      "execution_count": 4,
      "outputs": []
    },
    {
      "cell_type": "code",
      "source": [
        "#hide\n",
        "import fastai\n",
        "from fastbook import *\n",
        "from ipywidgets import *\n",
        "from fastai.vision.all import *\n",
        "from fastai.vision.widgets import *"
      ],
      "metadata": {
        "id": "UYojK9Fe8Dtq"
      },
      "execution_count": 5,
      "outputs": []
    },
    {
      "cell_type": "code",
      "source": [
        "def get_y(o): return [parent_label(o)]\n",
        "\n",
        "path = Path()\n",
        "learn_inf = load_learner('horse_classifier.pkl')\n",
        "btn_upload = widgets.FileUpload()\n",
        "out_pl = widgets.Output()\n",
        "lbl_pred = widgets.Label()\n",
        "\n",
        "def on_click_upload(change):\n",
        "    lbl_pred.value = '...waiting for classification...'\n",
        "    img = PILImage.create(btn_upload.data[-1])\n",
        "    out_pl.clear_output()\n",
        "    with out_pl: display(img.to_thumb(128,128))\n",
        "    pred,pred_idx,probs = learn_inf.predict(img)\n",
        "    lbl_pred.value = f'Prediction: {pred}; Probability: {probs[pred_idx].data.tolist()}'\n",
        "        \n",
        "btn_upload.observe(on_click_upload, names=['data'])\n",
        "VBox([widgets.Label('Upload an image of a dun horse , black horse or grey horse to classify it!'), \n",
        "      btn_upload,out_pl, lbl_pred])"
      ],
      "metadata": {
        "colab": {
          "base_uri": "https://localhost:8080/",
          "height": 212,
          "referenced_widgets": [
            "e4c7c25d439e45929f9a71ff31c1c7ff",
            "075b12ce83f6488490917882940eb3cc",
            "cfd245c1b3044320a9acc1dcb4142a31",
            "4e65a22c365f48059d2ee80560611566",
            "c7cafdec4f2c40a69e21a745f4e071af",
            "97d0864722cd405e81200cf7d934c2f5",
            "ddf9d25c36e14cc39c6ad444924943fc",
            "fc8ac8c230f643909af0ca454b6de997",
            "41b91bdb770346b3abb8e032cf80385b",
            "f0c52acc14b2446f9f1c4a061472d863",
            "d1674ff6cc184f268c5514efde8ff99c",
            "b18a6bc692684ebb90c50d34f91b96df",
            "b1e5ee38513f4726bbdb33bc02f2eae8"
          ]
        },
        "id": "9FeBFxHo8cl1",
        "outputId": "5d594f33-c7ae-4ed4-e875-56abe2119c26"
      },
      "execution_count": 6,
      "outputs": [
        {
          "output_type": "display_data",
          "data": {
            "text/plain": [
              "VBox(children=(Label(value='Upload an image of a dun horse , black horse or grey horse to classify it!'), File…"
            ],
            "application/vnd.jupyter.widget-view+json": {
              "version_major": 2,
              "version_minor": 0,
              "model_id": "e4c7c25d439e45929f9a71ff31c1c7ff"
            }
          },
          "metadata": {}
        },
        {
          "output_type": "display_data",
          "data": {
            "text/plain": [
              "<IPython.core.display.HTML object>"
            ],
            "text/html": [
              "\n",
              "<style>\n",
              "    /* Turns off some styling */\n",
              "    progress {\n",
              "        /* gets rid of default border in Firefox and Opera. */\n",
              "        border: none;\n",
              "        /* Needs to be in here for Safari polyfill so background images work as expected. */\n",
              "        background-size: auto;\n",
              "    }\n",
              "    .progress-bar-interrupted, .progress-bar-interrupted::-webkit-progress-bar {\n",
              "        background: #F44336;\n",
              "    }\n",
              "</style>\n"
            ]
          },
          "metadata": {}
        },
        {
          "output_type": "display_data",
          "data": {
            "text/plain": [
              "<IPython.core.display.HTML object>"
            ],
            "text/html": [
              ""
            ]
          },
          "metadata": {}
        }
      ]
    }
  ]
}